{
  "cells": [
    {
      "cell_type": "markdown",
      "metadata": {
        "colab_type": "text",
        "id": "view-in-github"
      },
      "source": [
        "<a href=\"https://colab.research.google.com/github/Matt44320/ExerciciosSirius/blob/main/Exerc%C3%ADcios_Python.ipynb\" target=\"_parent\"><img src=\"https://colab.research.google.com/assets/colab-badge.svg\" alt=\"Open In Colab\"/></a>"
      ]
    },
    {
      "cell_type": "markdown",
      "metadata": {
        "id": "W6TJJ9VHQKUH"
      },
      "source": [
        "# Exercícios de Lógica de Programação em Python"
      ]
    },
    {
      "cell_type": "markdown",
      "metadata": {
        "id": "Ibj7Joj9QdwL"
      },
      "source": [
        "## Exercício 1 (Aquecimento): Vamos criar uma calculadora (simples) com as operações soma, subtração, multiplicação, divisão.\n",
        "\n",
        "Dica: crie funções para tarefas específicas como, por exemplo, uma função `soma(a,b)`, uma função `subtracao(a,b)`, ... e depois use estas funções para criar a função `calculadora()`.\n",
        "\n",
        "Lembre-se de que não se pode dividir por zero."
      ]
    },
    {
      "cell_type": "code",
      "execution_count": 1,
      "metadata": {
        "id": "0ER-YTL8QEWm"
      },
      "outputs": [],
      "source": [
        "def soma():\n",
        "  a = int(input('Digite o primeiro valor :'))\n",
        "  b = int(input('Digite o segundo valor :'))\n",
        "  print('Escolhida a operação de soma')\n",
        "  print(a + b)\n",
        "\n",
        "def substracao():\n",
        "  a = int(input('Digite o primeiro valor :'))\n",
        "  b = int(input('Digite o segundo valor :'))\n",
        "  print('Escolhida a operação de subtração')\n",
        "  print(a - b)\n",
        "  \n",
        "def multiplicacao():\n",
        "  a = int(input('Digite o primeiro valor :'))\n",
        "  b = int(input('Digite o segundo valor :'))\n",
        "  print('Escolhida a operação de multiplicação')\n",
        "  print(a * b) \n",
        "\n",
        "def divisao():\n",
        "  a = int(input('Digite o primeiro valor :'))\n",
        "  b = int(input('Digite o segundo valor :'))\n",
        "  if a == 0 or b == 0:\n",
        "    print('Erro, não se pode dividir por zero')\n",
        "  else:\n",
        "    print('Escolhida a operação de divisão')\n",
        "    print(a / b) \n"
      ]
    },
    {
      "cell_type": "code",
      "execution_count": 2,
      "metadata": {
        "id": "qENPYxkQQSuc"
      },
      "outputs": [],
      "source": [
        "def calculadora():\n",
        "  n= 0\n",
        "  while True :\n",
        "    print('''\n",
        "  Escolha o número da operação a ser realizada :\n",
        "    1) soma\n",
        "    2) subtração\n",
        "    3) multiplicação\n",
        "    4) divisão\n",
        "    5) encerrar calculadora'''\n",
        "    )\n",
        "    n = int(input())\n",
        "    if n == 5:\n",
        "      break\n",
        "    if n == 1:\n",
        "      soma()\n",
        "    elif n == 2: \n",
        "      substracao()\n",
        "    elif n == 3:\n",
        "      multiplicacao()\n",
        "    elif n == 4:\n",
        "      divisao()\n",
        "    else: \n",
        "      print('Opção errada')\n",
        "  print('Encerrando a calculadora') "
      ]
    },
    {
      "cell_type": "code",
      "execution_count": 4,
      "metadata": {
        "colab": {
          "base_uri": "https://localhost:8080/"
        },
        "id": "UGDOpKeiumQK",
        "outputId": "0224bb7c-ccd9-4717-8944-3bc6c19033a3"
      },
      "outputs": [
        {
          "name": "stdout",
          "output_type": "stream",
          "text": [
            "\n",
            "  Escolha o número da operação a ser realizada :\n",
            "    1) soma\n",
            "    2) subtração\n",
            "    3) multiplicação\n",
            "    4) divisão\n",
            "    5) encerrar calculadora\n",
            "Escolhida a operação de soma\n",
            "25\n",
            "\n",
            "  Escolha o número da operação a ser realizada :\n",
            "    1) soma\n",
            "    2) subtração\n",
            "    3) multiplicação\n",
            "    4) divisão\n",
            "    5) encerrar calculadora\n",
            "Encerrando a calculadora\n"
          ]
        }
      ],
      "source": [
        "calculadora()"
      ]
    },
    {
      "cell_type": "markdown",
      "metadata": {
        "id": "QQZ2bBqeYOmu"
      },
      "source": [
        "### Exercício 2: Em um curso da Sirius temos alunos dos mais variados perfis, tendo diferentes faixas etárias, morando em diferentes estados do Brasil e que tiraram diferentes notas. Essas informações estão em diferentes listas, uma somente com os nomes, outras somente com as notas, outra com a idades e outro com os estados de residência.\n",
        "\n",
        "Com base nisso crie funções que ajudem a responder as perguntas considerando os dados a seguir."
      ]
    },
    {
      "cell_type": "code",
      "execution_count": 5,
      "metadata": {
        "id": "_jyuP-rnQSdt"
      },
      "outputs": [],
      "source": [
        "# dados\n",
        "nomes = ['João', 'José', 'Fernando', 'Rafaela', 'Kleber', 'Laercio', 'Carlos','Paula','Adriana','Walkyria','Guilherme','Gustavo','Gabriel', 'Mayara', 'Ana', 'Daniela', 'Rafael', 'Daiane', 'Maria', 'Mateus', 'Monique', 'Brian', 'Henrique', 'Alberto', 'Mônica', 'Bruce', 'Simone']\n",
        "notas = [8,7,6,9,3,8,7,5,9,1,4,5,8,4,9,7,5,6,2,7,4,5,8,7,9,10,5]\n",
        "idades = [25,17,56,32,27,31,48,24,41,50,29,22,30,31,28,52,27,33,35,36,38,26,29,35,38,41,46]\n",
        "estados = ['PR','SP','SP','MG','RJ','MG','PB','AM','SC','MS','SP','MG','AM','RO','MG','BA','MG','ES','CE','MG','PA','PI','PE','MG','RR','MG','SE']"
      ]
    },
    {
      "cell_type": "markdown",
      "metadata": {
        "id": "4RcD29Dqcjnt"
      },
      "source": [
        "#### 1) Crie uma função que seleciona o nome de todas as pessoas que residem em um determinado estado. Por exemplo, a função `alunos_por_estado(nomes, estados, 'SP')` deve retornar todos os nomes dos alunos que moram em São Paulo."
      ]
    },
    {
      "cell_type": "code",
      "execution_count": 6,
      "metadata": {
        "id": "h_0UKMGOGXmu"
      },
      "outputs": [],
      "source": [
        "def alunos_por_estado(nomes, estados, j):\n",
        "  lista = []\n",
        "  for i,j in enumerate(estados):\n",
        "    if j == \"SP\":\n",
        "      lista.append((nomes[i]))\n",
        "  print(lista)"
      ]
    },
    {
      "cell_type": "code",
      "execution_count": 7,
      "metadata": {
        "colab": {
          "base_uri": "https://localhost:8080/"
        },
        "id": "6_1P-Pkqcj74",
        "outputId": "2e5ddfae-0b88-48af-d314-771547bb55b8"
      },
      "outputs": [
        {
          "name": "stdout",
          "output_type": "stream",
          "text": [
            "['José', 'Fernando', 'Guilherme']\n"
          ]
        }
      ],
      "source": [
        "alunos_por_estado(nomes, estados, 'SP')"
      ]
    },
    {
      "cell_type": "markdown",
      "metadata": {
        "id": "WMMMrm-uc3wz"
      },
      "source": [
        "#### 2) Crie uma função que calcula quantas pessoas foram aprovadas por estado, considerando média 6. Por exemplo, a função `quant_aprov_estado(estados, notas, 'SP')` deve retornar quantos alunos foram aprovados no estado de São Paulo."
      ]
    },
    {
      "cell_type": "code",
      "execution_count": 8,
      "metadata": {
        "id": "aHJtbdGVc73x"
      },
      "outputs": [],
      "source": [
        "def quant_aprov_estado(estados, notas, estado):\n",
        "  contador = 0\n",
        "  for i,j in enumerate(estados):\n",
        "    if j == estado and notas[i] >= 6:\n",
        "      contador += 1\n",
        "  print(f'Há {contador} aprovados no estado {estado}')\n",
        "    "
      ]
    },
    {
      "cell_type": "code",
      "execution_count": 9,
      "metadata": {
        "colab": {
          "base_uri": "https://localhost:8080/"
        },
        "id": "6budRqf37qX-",
        "outputId": "8e2b34ec-7939-40f2-bb7f-a0aa45cdc466"
      },
      "outputs": [
        {
          "name": "stdout",
          "output_type": "stream",
          "text": [
            "Há 2 aprovados no estado SP\n"
          ]
        }
      ],
      "source": [
        "quant_aprov_estado(estados, notas, 'SP')"
      ]
    },
    {
      "cell_type": "markdown",
      "metadata": {
        "id": "H2rxUkYdikLQ"
      },
      "source": [
        "#### 3) Crie uma função que calcula quantos alunos há por estado. Por exemplo, a função `alunos_por_estado(estados)` deve retornar uma mensagem dizendo quantos alunos há em cada estado."
      ]
    },
    {
      "cell_type": "code",
      "execution_count": 14,
      "metadata": {
        "id": "aBhnfoFibo5C"
      },
      "outputs": [],
      "source": [
        "def alunos_por_estado(lista_estados):\n",
        "  estados_sem_rep = list(set(lista_estados))\n",
        "  for estado in estados_sem_rep:\n",
        "    cont = 0\n",
        "    for i in range(len(lista_estados)):\n",
        "      if lista_estados[i] == estado:\n",
        "        cont += 1\n",
        "    print(f'No estado {estado} há {cont} alunos')"
      ]
    },
    {
      "cell_type": "code",
      "execution_count": 15,
      "metadata": {
        "colab": {
          "base_uri": "https://localhost:8080/"
        },
        "id": "NgGrLWxNSdBq",
        "outputId": "4cf8c665-d471-4ccc-cca1-1c3d349fbe85"
      },
      "outputs": [
        {
          "name": "stdout",
          "output_type": "stream",
          "text": [
            "No estado PB há 1 alunos\n",
            "No estado MG há 8 alunos\n",
            "No estado ES há 1 alunos\n",
            "No estado SP há 3 alunos\n",
            "No estado RJ há 1 alunos\n",
            "No estado SC há 1 alunos\n",
            "No estado PE há 1 alunos\n",
            "No estado PR há 1 alunos\n",
            "No estado RO há 1 alunos\n",
            "No estado BA há 1 alunos\n",
            "No estado PA há 1 alunos\n",
            "No estado PI há 1 alunos\n",
            "No estado RR há 1 alunos\n",
            "No estado SE há 1 alunos\n",
            "No estado MS há 1 alunos\n",
            "No estado CE há 1 alunos\n",
            "No estado AM há 2 alunos\n"
          ]
        }
      ],
      "source": [
        "alunos_por_estado(estados)"
      ]
    },
    {
      "cell_type": "markdown",
      "metadata": {
        "id": "roX11LBBkEgr"
      },
      "source": [
        "#### 4) Crie uma função que calcula a média das notas dos alunos de um determinado estado. Por exemplo, a função `media_por_estado(notas, estados, 'SP')` deve retornar a média das notas do alunos (com duas casas decimais) do estado de São Paulo."
      ]
    },
    {
      "cell_type": "code",
      "execution_count": 16,
      "metadata": {
        "id": "JVEZlfqjkE6M"
      },
      "outputs": [],
      "source": [
        "def media_por_estado(notas, estados, k):\n",
        "  media = 0\n",
        "  cont = 0\n",
        "  for i,j in enumerate(estados):\n",
        "    if j == k:\n",
        "      media += notas[i]\n",
        "      cont += 1\n",
        "  print(f'A média das notas dos alunos do estado {k} foi de {media/cont:.2f}')"
      ]
    },
    {
      "cell_type": "code",
      "execution_count": 17,
      "metadata": {
        "colab": {
          "base_uri": "https://localhost:8080/"
        },
        "id": "OchP75i9mWll",
        "outputId": "e7dfcee2-89d6-45e8-b2b1-ca38dcf8bd5f"
      },
      "outputs": [
        {
          "name": "stdout",
          "output_type": "stream",
          "text": [
            "A média das notas dos alunos do estado SP foi de 5.67\n"
          ]
        }
      ],
      "source": [
        "media_por_estado(notas, estados, 'SP')\n"
      ]
    },
    {
      "cell_type": "markdown",
      "metadata": {
        "id": "53LQI5JvnjjL"
      },
      "source": [
        "#### 5) Crie uma função que calcula a média das idades dos alunos aprovados (considerando media 6) de um determinado estado. Por exemplo, a função `media_idade_aprov_por_estado(notas, estados, idades, 'SP')` deve retornar a média das idades do alunos (com duas casas decimais) aprovados que residem no estado de São Paulo."
      ]
    },
    {
      "cell_type": "code",
      "execution_count": 18,
      "metadata": {
        "id": "wCJTqBFemsDG"
      },
      "outputs": [],
      "source": [
        "def media_idade_aprov_por_estado(notas, estados, idades, k):\n",
        "  idade = 0\n",
        "  cont = 0\n",
        "\n",
        "  for i,j in enumerate(estados):\n",
        "    if j == k and notas[i] >= 6:\n",
        "      idade += idades[i]\n",
        "      cont += 1\n",
        "  print(f'A média de idade dos alunos aprovados do estado de {k} é {idade/cont}')"
      ]
    },
    {
      "cell_type": "code",
      "execution_count": 19,
      "metadata": {
        "colab": {
          "base_uri": "https://localhost:8080/"
        },
        "id": "2UtrcrrMvOV4",
        "outputId": "f06b8c34-4241-4358-d2b2-a55c6c23aa28"
      },
      "outputs": [
        {
          "name": "stdout",
          "output_type": "stream",
          "text": [
            "A média de idade dos alunos aprovados do estado de SP é 36.5\n"
          ]
        }
      ],
      "source": [
        "media_idade_aprov_por_estado(notas, estados, idades, 'SP')"
      ]
    }
  ],
  "metadata": {
    "colab": {
      "include_colab_link": true,
      "provenance": []
    },
    "kernelspec": {
      "display_name": "base",
      "language": "python",
      "name": "python3"
    },
    "language_info": {
      "codemirror_mode": {
        "name": "ipython",
        "version": 3
      },
      "file_extension": ".py",
      "mimetype": "text/x-python",
      "name": "python",
      "nbconvert_exporter": "python",
      "pygments_lexer": "ipython3",
      "version": "3.9.13"
    },
    "vscode": {
      "interpreter": {
        "hash": "076f67f1f9c5155fa2ee2c90a8d71955dae9225d9962541e7b33ab4cdd8cf488"
      }
    }
  },
  "nbformat": 4,
  "nbformat_minor": 0
}
