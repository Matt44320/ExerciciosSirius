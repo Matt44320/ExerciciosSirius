{
  "nbformat": 4,
  "nbformat_minor": 0,
  "metadata": {
    "colab": {
      "provenance": [],
      "include_colab_link": true
    },
    "kernelspec": {
      "name": "python3",
      "display_name": "Python 3"
    },
    "language_info": {
      "name": "python"
    }
  },
  "cells": [
    {
      "cell_type": "markdown",
      "metadata": {
        "id": "view-in-github",
        "colab_type": "text"
      },
      "source": [
        "<a href=\"https://colab.research.google.com/github/Matt44320/ExerciciosSirius/blob/main/Matthieu_Master_Semana2_Exercicios.ipynb\" target=\"_parent\"><img src=\"https://colab.research.google.com/assets/colab-badge.svg\" alt=\"Open In Colab\"/></a>"
      ]
    },
    {
      "cell_type": "markdown",
      "source": [
        "# Teste de Hipótese para a Média (uma variável)\n",
        "\n",
        "### Atividade 1: Crie um dataframe a partir do banco de dados `basedosdados.br_inep_ideb.municipio` disponível em [Ideb](https://basedosdados.org/dataset/br-inep-ideb?bdm_table=municipio). Selecione apenas as colunas `ano`, `sigla_uf`, `taxa_aprovacao`, `nota_saeb_matematica`, `nota_saeb_lingua_portuguesa` e `ideb`."
      ],
      "metadata": {
        "id": "9H7XRk3GlSOe"
      }
    },
    {
      "cell_type": "code",
      "source": [
        "from google.colab import drive\n",
        "drive.mount('/content/drive')"
      ],
      "metadata": {
        "colab": {
          "base_uri": "https://localhost:8080/"
        },
        "id": "B3iEK3nvPDGq",
        "outputId": "a66ba43d-bf07-4e07-ab79-07a08ee34543"
      },
      "execution_count": null,
      "outputs": [
        {
          "output_type": "stream",
          "name": "stdout",
          "text": [
            "Mounted at /content/drive\n"
          ]
        }
      ]
    },
    {
      "cell_type": "code",
      "source": [
        "import pandas as pd\n",
        "\n",
        "arquivo = '/content/drive/MyDrive/Colab Notebooks/Sirius_DS/Sprint1/W2_testes_hipotese/ideb.csv'\n",
        "df = pd.read_csv(arquivo)\n",
        "ideb = df[['ano', 'sigla_uf','taxa_aprovacao','nota_saeb_matematica','nota_saeb_lingua_portuguesa','ideb']]\n",
        "ideb.head() "
      ],
      "metadata": {
        "id": "daQqvK6NWWTW",
        "colab": {
          "base_uri": "https://localhost:8080/",
          "height": 206
        },
        "outputId": "7dd71f81-d022-4d71-8bfe-09fee30201e7"
      },
      "execution_count": null,
      "outputs": [
        {
          "output_type": "execute_result",
          "data": {
            "text/plain": [
              "    ano sigla_uf  taxa_aprovacao  nota_saeb_matematica  \\\n",
              "0  2005       AC            64.1                 161.8   \n",
              "1  2005       AC            53.9                 167.8   \n",
              "2  2005       AC            49.3                 151.8   \n",
              "3  2005       AC            48.8                 163.6   \n",
              "4  2005       AC            48.8                 159.0   \n",
              "\n",
              "   nota_saeb_lingua_portuguesa  ideb  \n",
              "0                       150.80   2.4  \n",
              "1                       165.60   2.3  \n",
              "2                       149.60   1.8  \n",
              "3                       155.80   1.9  \n",
              "4                       153.39   1.9  "
            ],
            "text/html": [
              "\n",
              "  <div id=\"df-98d9acff-1eda-4518-885b-aa7ade448da5\">\n",
              "    <div class=\"colab-df-container\">\n",
              "      <div>\n",
              "<style scoped>\n",
              "    .dataframe tbody tr th:only-of-type {\n",
              "        vertical-align: middle;\n",
              "    }\n",
              "\n",
              "    .dataframe tbody tr th {\n",
              "        vertical-align: top;\n",
              "    }\n",
              "\n",
              "    .dataframe thead th {\n",
              "        text-align: right;\n",
              "    }\n",
              "</style>\n",
              "<table border=\"1\" class=\"dataframe\">\n",
              "  <thead>\n",
              "    <tr style=\"text-align: right;\">\n",
              "      <th></th>\n",
              "      <th>ano</th>\n",
              "      <th>sigla_uf</th>\n",
              "      <th>taxa_aprovacao</th>\n",
              "      <th>nota_saeb_matematica</th>\n",
              "      <th>nota_saeb_lingua_portuguesa</th>\n",
              "      <th>ideb</th>\n",
              "    </tr>\n",
              "  </thead>\n",
              "  <tbody>\n",
              "    <tr>\n",
              "      <th>0</th>\n",
              "      <td>2005</td>\n",
              "      <td>AC</td>\n",
              "      <td>64.1</td>\n",
              "      <td>161.8</td>\n",
              "      <td>150.80</td>\n",
              "      <td>2.4</td>\n",
              "    </tr>\n",
              "    <tr>\n",
              "      <th>1</th>\n",
              "      <td>2005</td>\n",
              "      <td>AC</td>\n",
              "      <td>53.9</td>\n",
              "      <td>167.8</td>\n",
              "      <td>165.60</td>\n",
              "      <td>2.3</td>\n",
              "    </tr>\n",
              "    <tr>\n",
              "      <th>2</th>\n",
              "      <td>2005</td>\n",
              "      <td>AC</td>\n",
              "      <td>49.3</td>\n",
              "      <td>151.8</td>\n",
              "      <td>149.60</td>\n",
              "      <td>1.8</td>\n",
              "    </tr>\n",
              "    <tr>\n",
              "      <th>3</th>\n",
              "      <td>2005</td>\n",
              "      <td>AC</td>\n",
              "      <td>48.8</td>\n",
              "      <td>163.6</td>\n",
              "      <td>155.80</td>\n",
              "      <td>1.9</td>\n",
              "    </tr>\n",
              "    <tr>\n",
              "      <th>4</th>\n",
              "      <td>2005</td>\n",
              "      <td>AC</td>\n",
              "      <td>48.8</td>\n",
              "      <td>159.0</td>\n",
              "      <td>153.39</td>\n",
              "      <td>1.9</td>\n",
              "    </tr>\n",
              "  </tbody>\n",
              "</table>\n",
              "</div>\n",
              "      <button class=\"colab-df-convert\" onclick=\"convertToInteractive('df-98d9acff-1eda-4518-885b-aa7ade448da5')\"\n",
              "              title=\"Convert this dataframe to an interactive table.\"\n",
              "              style=\"display:none;\">\n",
              "        \n",
              "  <svg xmlns=\"http://www.w3.org/2000/svg\" height=\"24px\"viewBox=\"0 0 24 24\"\n",
              "       width=\"24px\">\n",
              "    <path d=\"M0 0h24v24H0V0z\" fill=\"none\"/>\n",
              "    <path d=\"M18.56 5.44l.94 2.06.94-2.06 2.06-.94-2.06-.94-.94-2.06-.94 2.06-2.06.94zm-11 1L8.5 8.5l.94-2.06 2.06-.94-2.06-.94L8.5 2.5l-.94 2.06-2.06.94zm10 10l.94 2.06.94-2.06 2.06-.94-2.06-.94-.94-2.06-.94 2.06-2.06.94z\"/><path d=\"M17.41 7.96l-1.37-1.37c-.4-.4-.92-.59-1.43-.59-.52 0-1.04.2-1.43.59L10.3 9.45l-7.72 7.72c-.78.78-.78 2.05 0 2.83L4 21.41c.39.39.9.59 1.41.59.51 0 1.02-.2 1.41-.59l7.78-7.78 2.81-2.81c.8-.78.8-2.07 0-2.86zM5.41 20L4 18.59l7.72-7.72 1.47 1.35L5.41 20z\"/>\n",
              "  </svg>\n",
              "      </button>\n",
              "      \n",
              "  <style>\n",
              "    .colab-df-container {\n",
              "      display:flex;\n",
              "      flex-wrap:wrap;\n",
              "      gap: 12px;\n",
              "    }\n",
              "\n",
              "    .colab-df-convert {\n",
              "      background-color: #E8F0FE;\n",
              "      border: none;\n",
              "      border-radius: 50%;\n",
              "      cursor: pointer;\n",
              "      display: none;\n",
              "      fill: #1967D2;\n",
              "      height: 32px;\n",
              "      padding: 0 0 0 0;\n",
              "      width: 32px;\n",
              "    }\n",
              "\n",
              "    .colab-df-convert:hover {\n",
              "      background-color: #E2EBFA;\n",
              "      box-shadow: 0px 1px 2px rgba(60, 64, 67, 0.3), 0px 1px 3px 1px rgba(60, 64, 67, 0.15);\n",
              "      fill: #174EA6;\n",
              "    }\n",
              "\n",
              "    [theme=dark] .colab-df-convert {\n",
              "      background-color: #3B4455;\n",
              "      fill: #D2E3FC;\n",
              "    }\n",
              "\n",
              "    [theme=dark] .colab-df-convert:hover {\n",
              "      background-color: #434B5C;\n",
              "      box-shadow: 0px 1px 3px 1px rgba(0, 0, 0, 0.15);\n",
              "      filter: drop-shadow(0px 1px 2px rgba(0, 0, 0, 0.3));\n",
              "      fill: #FFFFFF;\n",
              "    }\n",
              "  </style>\n",
              "\n",
              "      <script>\n",
              "        const buttonEl =\n",
              "          document.querySelector('#df-98d9acff-1eda-4518-885b-aa7ade448da5 button.colab-df-convert');\n",
              "        buttonEl.style.display =\n",
              "          google.colab.kernel.accessAllowed ? 'block' : 'none';\n",
              "\n",
              "        async function convertToInteractive(key) {\n",
              "          const element = document.querySelector('#df-98d9acff-1eda-4518-885b-aa7ade448da5');\n",
              "          const dataTable =\n",
              "            await google.colab.kernel.invokeFunction('convertToInteractive',\n",
              "                                                     [key], {});\n",
              "          if (!dataTable) return;\n",
              "\n",
              "          const docLinkHtml = 'Like what you see? Visit the ' +\n",
              "            '<a target=\"_blank\" href=https://colab.research.google.com/notebooks/data_table.ipynb>data table notebook</a>'\n",
              "            + ' to learn more about interactive tables.';\n",
              "          element.innerHTML = '';\n",
              "          dataTable['output_type'] = 'display_data';\n",
              "          await google.colab.output.renderOutput(dataTable, element);\n",
              "          const docLink = document.createElement('div');\n",
              "          docLink.innerHTML = docLinkHtml;\n",
              "          element.appendChild(docLink);\n",
              "        }\n",
              "      </script>\n",
              "    </div>\n",
              "  </div>\n",
              "  "
            ]
          },
          "metadata": {},
          "execution_count": 3
        }
      ]
    },
    {
      "cell_type": "markdown",
      "source": [
        "### Atividade 2: Verifique quantas linhas e colunas possui esse dataframe. Veja também se há dados faltantes."
      ],
      "metadata": {
        "id": "xsEP0uQwUib_"
      }
    },
    {
      "cell_type": "code",
      "source": [
        "ideb.shape"
      ],
      "metadata": {
        "id": "Hbfcm2eZT86g",
        "colab": {
          "base_uri": "https://localhost:8080/"
        },
        "outputId": "b0a2b534-397f-4bd0-aedd-34c36e079d3b"
      },
      "execution_count": null,
      "outputs": [
        {
          "output_type": "execute_result",
          "data": {
            "text/plain": [
              "(130194, 6)"
            ]
          },
          "metadata": {},
          "execution_count": 4
        }
      ]
    },
    {
      "cell_type": "code",
      "source": [
        "ideb.info()"
      ],
      "metadata": {
        "colab": {
          "base_uri": "https://localhost:8080/"
        },
        "id": "guekrGQ2TV-g",
        "outputId": "5e749a2a-e73f-4bdb-e602-ee7175ef3c64"
      },
      "execution_count": null,
      "outputs": [
        {
          "output_type": "stream",
          "name": "stdout",
          "text": [
            "<class 'pandas.core.frame.DataFrame'>\n",
            "RangeIndex: 130194 entries, 0 to 130193\n",
            "Data columns (total 6 columns):\n",
            " #   Column                       Non-Null Count   Dtype  \n",
            "---  ------                       --------------   -----  \n",
            " 0   ano                          130194 non-null  int64  \n",
            " 1   sigla_uf                     130194 non-null  object \n",
            " 2   taxa_aprovacao               103458 non-null  float64\n",
            " 3   nota_saeb_matematica         88345 non-null   float64\n",
            " 4   nota_saeb_lingua_portuguesa  88345 non-null   float64\n",
            " 5   ideb                         100369 non-null  float64\n",
            "dtypes: float64(4), int64(1), object(1)\n",
            "memory usage: 6.0+ MB\n"
          ]
        }
      ]
    },
    {
      "cell_type": "code",
      "source": [
        "ideb.isna().sum()"
      ],
      "metadata": {
        "id": "wdJdcto_XoB6",
        "colab": {
          "base_uri": "https://localhost:8080/"
        },
        "outputId": "958a0d1a-4c9c-4bd7-c12f-f4a3f6a8101d"
      },
      "execution_count": null,
      "outputs": [
        {
          "output_type": "execute_result",
          "data": {
            "text/plain": [
              "ano                                0\n",
              "sigla_uf                           0\n",
              "taxa_aprovacao                 26736\n",
              "nota_saeb_matematica           41849\n",
              "nota_saeb_lingua_portuguesa    41849\n",
              "ideb                           29825\n",
              "dtype: int64"
            ]
          },
          "metadata": {},
          "execution_count": 6
        }
      ]
    },
    {
      "cell_type": "code",
      "source": [
        "ideb_filtro = ideb.dropna()\n",
        "ideb_filtro.info()"
      ],
      "metadata": {
        "colab": {
          "base_uri": "https://localhost:8080/"
        },
        "id": "yJJxjbGnXFeF",
        "outputId": "c9451a68-4df1-40eb-90a4-f795c2df5e63"
      },
      "execution_count": null,
      "outputs": [
        {
          "output_type": "stream",
          "name": "stdout",
          "text": [
            "<class 'pandas.core.frame.DataFrame'>\n",
            "Int64Index: 88321 entries, 0 to 130193\n",
            "Data columns (total 6 columns):\n",
            " #   Column                       Non-Null Count  Dtype  \n",
            "---  ------                       --------------  -----  \n",
            " 0   ano                          88321 non-null  int64  \n",
            " 1   sigla_uf                     88321 non-null  object \n",
            " 2   taxa_aprovacao               88321 non-null  float64\n",
            " 3   nota_saeb_matematica         88321 non-null  float64\n",
            " 4   nota_saeb_lingua_portuguesa  88321 non-null  float64\n",
            " 5   ideb                         88321 non-null  float64\n",
            "dtypes: float64(4), int64(1), object(1)\n",
            "memory usage: 4.7+ MB\n"
          ]
        }
      ]
    },
    {
      "cell_type": "markdown",
      "source": [
        "### Atividade 3: Teste a hipótese de a média da taxa de aprovação para o ano de 2005 ser igual a 78. Considere um nível de confiança de 95%.\n",
        "\n",
        "Descreva, sucintamente, o resultado do teste de hipótese. Não esqueça de incluir as estatísticas encontradas.\n",
        "\n",
        "Dica: crie um DataFrame somente com os valores do ano e da variável de interesse.\n"
      ],
      "metadata": {
        "id": "9lzeAO8TUxgE"
      }
    },
    {
      "cell_type": "markdown",
      "source": [
        "### Formulando as hipoteses nula e alternativa \n",
        "\n",
        "H0 : A média da taxa de aprovação é igual a 78.\n",
        "\n",
        "H1 : A média da taxa de aprovação é diferente a 78.\n",
        "\n",
        "### Determinando nível de significancia\n",
        "\n",
        "Vamos considerar um nível de significancia de 5%.\n",
        "\n",
        "Nessa caso teremos um teste bicaudal."
      ],
      "metadata": {
        "id": "ZDm7pB_tVPT1"
      }
    },
    {
      "cell_type": "markdown",
      "source": [
        "### Verificando a normalidade dos dados"
      ],
      "metadata": {
        "id": "IUyo1g9qWb5O"
      }
    },
    {
      "cell_type": "code",
      "source": [
        "import seaborn as sns\n",
        "\n",
        "ideb_2005 = ideb_filtro[ideb_filtro['ano'] == 2005]\n",
        "\n",
        "sns.histplot(data=ideb_2005, x='taxa_aprovacao', stat='probability');"
      ],
      "metadata": {
        "id": "R9FM2kK-T82a",
        "colab": {
          "base_uri": "https://localhost:8080/",
          "height": 280
        },
        "outputId": "cbdb7b32-0c4c-4fd3-d0e7-7f65a082f266"
      },
      "execution_count": null,
      "outputs": [
        {
          "output_type": "display_data",
          "data": {
            "text/plain": [
              "<Figure size 432x288 with 1 Axes>"
            ],
            "image/png": "[encoded data removed]"
          },
          "metadata": {
            "needs_background": "light"
          }
        }
      ]
    },
    {
      "cell_type": "code",
      "source": [
        "from scipy.stats import shapiro\n",
        "\n",
        "shapiro_test = shapiro(ideb_2005['taxa_aprovacao'])\n",
        "print(shapiro_test);"
      ],
      "metadata": {
        "id": "JWqQdcoNT80m",
        "colab": {
          "base_uri": "https://localhost:8080/"
        },
        "outputId": "de4aa0a3-4ee3-4219-edeb-162ca24e8e27"
      },
      "execution_count": null,
      "outputs": [
        {
          "output_type": "stream",
          "name": "stdout",
          "text": [
            "ShapiroResult(statistic=0.9564246535301208, pvalue=0.0)\n"
          ]
        },
        {
          "output_type": "stream",
          "name": "stderr",
          "text": [
            "/usr/local/lib/python3.8/dist-packages/scipy/stats/morestats.py:1760: UserWarning: p-value may not be accurate for N > 5000.\n",
            "  warnings.warn(\"p-value may not be accurate for N > 5000.\")\n"
          ]
        }
      ]
    },
    {
      "cell_type": "markdown",
      "source": [
        "Com  o valor de p igual a 0 rejeitamos e hipoteses que o dados seguem uma distribuição normal."
      ],
      "metadata": {
        "id": "bfN6v23waLm2"
      }
    },
    {
      "cell_type": "code",
      "source": [
        "from scipy.stats import ttest_1samp\n",
        "\n",
        "ttest_1samp(a=ideb_2005['taxa_aprovacao'], popmean=78, alternative='two-sided')"
      ],
      "metadata": {
        "colab": {
          "base_uri": "https://localhost:8080/"
        },
        "id": "ajYAFPEwabbi",
        "outputId": "270146a5-c685-4a4a-e967-eb249c540351"
      },
      "execution_count": null,
      "outputs": [
        {
          "output_type": "execute_result",
          "data": {
            "text/plain": [
              "Ttest_1sampResult(statistic=20.890080427394643, pvalue=3.1469508067020596e-95)"
            ]
          },
          "metadata": {},
          "execution_count": 10
        }
      ]
    },
    {
      "cell_type": "markdown",
      "source": [
        "### Interpretação\n",
        "\n",
        "Com o p valor próximo de 0 e considerando nível de significancia de 5% rejeitamos a hipotese nula que a média da taxa de aprovação em 2005 é igual a 78.\n"
      ],
      "metadata": {
        "id": "syZNV-Q7bDPO"
      }
    },
    {
      "cell_type": "markdown",
      "source": [
        "# Teste de Hipótese para a Média (duas variáveis independentes)\n",
        "\n",
        "Agora vamos aplicar um teste de hipótese para a média de duas populações independentes usando dados reais. Desejamos saber se a média para ambas é a mesma."
      ],
      "metadata": {
        "id": "J_zjF2d0HUsv"
      }
    },
    {
      "cell_type": "markdown",
      "source": [
        "### Atividade 4: Teste a hipótese de a média do IDEB para os estados do Rio Grande do Sul e do Ceará, no ano de 2019, serem iguais. Considere um nível de confiança de 95%\n",
        "\n",
        "Dica: Primeiro crie um dataframe auxiliar contendo apenas os dados referentes a 2019. Depois selecione dois conjunto de valores de IDEB, um apenas para o estado do Rio Grande do Sul e outro apenas para o estado do Ceará."
      ],
      "metadata": {
        "id": "WMLStXqvHhsW"
      }
    },
    {
      "cell_type": "markdown",
      "source": [
        "### Formulando as hipoteses nula e alternativa \n",
        "\n",
        "H0 : A media do ideb para os estados de RS e CE no ano 2019 é igual.\n",
        "\n",
        "H1 : A media do ideb para os estados de RS e CE no ano 2019 é diferente.\n",
        "\n",
        "### Determinando nível de significancia\n",
        "\n",
        "Vamos considerar um nível de significancia de 95%.\n",
        "\n"
      ],
      "metadata": {
        "id": "Vw1ZQ9RvfV2P"
      }
    },
    {
      "cell_type": "code",
      "source": [
        "estado = ideb_filtro['sigla_uf'].value_counts()\n",
        "dic = estado.to_dict()\n",
        "print(dic.keys())"
      ],
      "metadata": {
        "colab": {
          "base_uri": "https://localhost:8080/"
        },
        "id": "v8MNNGBicHGz",
        "outputId": "3d9f135c-c67d-49ab-caa4-6c688c5d5eaa"
      },
      "execution_count": null,
      "outputs": [
        {
          "output_type": "stream",
          "name": "stdout",
          "text": [
            "dict_keys(['MG', 'SP', 'RS', 'BA', 'PR', 'SC', 'GO', 'PB', 'MA', 'PI', 'RN', 'PE', 'CE', 'MT', 'TO', 'PA', 'AL', 'RJ', 'MS', 'ES', 'SE', 'AM', 'RO', 'AC', 'AP', 'RR', 'DF'])\n"
          ]
        }
      ]
    },
    {
      "cell_type": "code",
      "source": [
        "from scipy.stats import ttest_ind\n",
        "\n",
        "ttest_ind(ideb_filtro['ideb'][(ideb_filtro['sigla_uf'] == 'RS') & (ideb_filtro['ano'] == 2019)],\n",
        "          ideb_filtro['ideb'][(ideb_filtro['sigla_uf'] == 'CE') & (ideb_filtro['ano'] == 2019)])"
      ],
      "metadata": {
        "colab": {
          "base_uri": "https://localhost:8080/"
        },
        "id": "3j1d-aSde8xA",
        "outputId": "f01431fb-5393-4ea4-c7f2-1bfa1eaa4df7"
      },
      "execution_count": null,
      "outputs": [
        {
          "output_type": "execute_result",
          "data": {
            "text/plain": [
              "Ttest_indResult(statistic=-4.3200508719663135, pvalue=1.6632800256873896e-05)"
            ]
          },
          "metadata": {},
          "execution_count": 12
        }
      ]
    },
    {
      "cell_type": "markdown",
      "source": [
        "### Interpretação\n",
        "\n",
        "Com o p valor menor que 0,05 podemos rejeitar a hipotese nula que a média do IDEB em 2019 é igual nos estados do Ceara e RS."
      ],
      "metadata": {
        "id": "UYU49abZgCuM"
      }
    },
    {
      "cell_type": "markdown",
      "source": [
        "### Atividade 5: Com base no resultado do teste anterior, faça um boxplot que lhe ajude a entender melhor os resultados obtidos. Isto é, compare o boxplot do IDEB dos dois estados."
      ],
      "metadata": {
        "id": "8uxllG0pIBeA"
      }
    },
    {
      "cell_type": "code",
      "source": [
        "df_RS = ideb_filtro[(ideb_filtro['sigla_uf'] == 'RS') & (ideb_filtro['ano'] == 2019)]\n",
        "df_CE = ideb_filtro[(ideb_filtro['sigla_uf'] == 'CE') & (ideb_filtro['ano'] == 2019)]\n",
        "\n",
        "df_final = pd.concat([df_RS, df_CE])\n",
        "sns.boxplot(x=df_final['sigla_uf'], y=df_final['ideb']);"
      ],
      "metadata": {
        "id": "k0rj4wdnHWhy",
        "colab": {
          "base_uri": "https://localhost:8080/",
          "height": 280
        },
        "outputId": "86484ca2-5362-4092-e4e1-d4a6a8e19605"
      },
      "execution_count": null,
      "outputs": [
        {
          "output_type": "display_data",
          "data": {
            "text/plain": [
              "<Figure size 432x288 with 1 Axes>"
            ],
            "image/png": "[encoded data removed]"
          },
          "metadata": {
            "needs_background": "light"
          }
        }
      ]
    },
    {
      "cell_type": "markdown",
      "source": [
        "### Atividade 6: Teste a hipótese de a média do IDEB para os anos de 2005 e 2019 serem iguais. Considere um nível de confiança de 95%\n",
        "\n",
        "Dica: Crie dois dataframes auxiliares e selecione 300 linhas de cada um apenas (sem conter valores faltantes) para realizar o teste."
      ],
      "metadata": {
        "id": "VTgadqJqIUWt"
      }
    },
    {
      "cell_type": "code",
      "source": [
        "df_2005 = ideb_filtro[ideb_filtro['ano'] == 2005]\n",
        "df_2019 = ideb_filtro[ideb_filtro['ano'] == 2019]"
      ],
      "metadata": {
        "id": "T94xMQ1CkCd9"
      },
      "execution_count": null,
      "outputs": []
    },
    {
      "cell_type": "code",
      "source": [
        "df_2005_new = df_2005[:300]\n",
        "df_2019_new = df_2019[:300]"
      ],
      "metadata": {
        "id": "0D2ILzAAlYoo"
      },
      "execution_count": null,
      "outputs": []
    },
    {
      "cell_type": "code",
      "source": [
        "from scipy.stats import ttest_rel\n",
        "\n",
        "ttest_rel(df_2005_new['ideb'],\n",
        "          df_2019_new['ideb'])"
      ],
      "metadata": {
        "id": "MDqP4xvRIPOt",
        "colab": {
          "base_uri": "https://localhost:8080/"
        },
        "outputId": "e8024149-49d7-493d-c0a8-b16317c51efe"
      },
      "execution_count": null,
      "outputs": [
        {
          "output_type": "execute_result",
          "data": {
            "text/plain": [
              "Ttest_relResult(statistic=-163.87518962388705, pvalue=8.329734374233758e-295)"
            ]
          },
          "metadata": {},
          "execution_count": 16
        }
      ]
    },
    {
      "cell_type": "markdown",
      "source": [
        "### Interpretação\n",
        "\n",
        "Com o p valor menor que 0,05 podemos rejeitar a hipotese nula que a média do IDEB em 2005 e 2019 é diferente."
      ],
      "metadata": {
        "id": "WWxwtzTUnnUt"
      }
    },
    {
      "cell_type": "markdown",
      "source": [
        "### Atividade 7: Com base no resultado do teste anterior, faça um boxplot que lhe ajude a entender melhor os resultados obtidos. Isto é, compare o boxplot do IDEB para os dois anos."
      ],
      "metadata": {
        "id": "NtEjca_OIc4w"
      }
    },
    {
      "cell_type": "code",
      "source": [
        "df_final = pd.concat([df_2005_new, df_2019_new])\n",
        "sns.boxplot(x=df_final['ano'], y=df_final['ideb']);"
      ],
      "metadata": {
        "id": "2k4C6scGIPKF",
        "colab": {
          "base_uri": "https://localhost:8080/",
          "height": 279
        },
        "outputId": "c7753279-7608-44df-d7e7-7d7b396ddf8f"
      },
      "execution_count": null,
      "outputs": [
        {
          "output_type": "display_data",
          "data": {
            "text/plain": [
              "<Figure size 432x288 with 1 Axes>"
            ],
            "image/png": "[encoded data removed]"
          },
          "metadata": {
            "needs_background": "light"
          }
        }
      ]
    },
    {
      "cell_type": "markdown",
      "source": [],
      "metadata": {
        "id": "oq5TwnzPneDG"
      }
    },
    {
      "cell_type": "markdown",
      "source": [
        "# Análise de Variância (ANOVA) One-Way\n",
        "\n",
        "### Atividade 8: Vamos comparar a média do IDEB para os três estados da região sul, em 2019, para ver se estas médias podem ser consideradas iguais. Considere um nível de confiança de 95%.\n",
        "\n",
        "Dica: Crie três dataframes auxiliares, um para cada estado."
      ],
      "metadata": {
        "id": "u7Zs62g3mY4E"
      }
    },
    {
      "cell_type": "markdown",
      "source": [
        "### Formulando as hipoteses\n",
        "\n",
        "H0 : A media do IDEB dos tres estados da região sul em 2019 é igual.\n",
        "\n",
        "H1 : A média do IDEB é diferente em pelo menos um dos estados da região sul."
      ],
      "metadata": {
        "id": "NVu1kPzgV_UL"
      }
    },
    {
      "cell_type": "code",
      "source": [
        "df_RS = ideb_filtro[(ideb_filtro['sigla_uf'] == 'RS') & (ideb_filtro['ano'] == 2019)]\n",
        "df_SC = ideb_filtro[(ideb_filtro['sigla_uf'] == 'SC') & (ideb_filtro['ano'] == 2019)]\n",
        "df_PR = ideb_filtro[(ideb_filtro['sigla_uf'] == 'PR') & (ideb_filtro['ano'] == 2019)]"
      ],
      "metadata": {
        "id": "h2LTwKv0V-cQ"
      },
      "execution_count": null,
      "outputs": []
    },
    {
      "cell_type": "code",
      "source": [
        "from scipy.stats import f_oneway\n",
        "\n",
        "f_oneway(df_PR['ideb'],\n",
        "         df_SC['ideb'],\n",
        "         df_RS['ideb'])"
      ],
      "metadata": {
        "id": "GUb-Ng3flRY7",
        "colab": {
          "base_uri": "https://localhost:8080/"
        },
        "outputId": "323c28d5-df60-4599-8f59-0f5ff5dd4d71"
      },
      "execution_count": null,
      "outputs": [
        {
          "output_type": "execute_result",
          "data": {
            "text/plain": [
              "F_onewayResult(statistic=27.712354138245196, pvalue=1.2331589284254783e-12)"
            ]
          },
          "metadata": {},
          "execution_count": 19
        }
      ]
    },
    {
      "cell_type": "markdown",
      "source": [
        "A partir do teste de hipotese da ANOVA, temos um p valor inferior a 0,05 (nível de significância). Por tanto, rejeitamos a hipotese nula que a média do IDEB é igual nos 3 estados."
      ],
      "metadata": {
        "id": "xgatFBd1XZEf"
      }
    },
    {
      "cell_type": "markdown",
      "source": [
        "### Atividade 9: Faça um boxplot para entender melhor o que está acontecendo com os valores do IDEB para os três estados."
      ],
      "metadata": {
        "id": "5fLIsXvgV5Z9"
      }
    },
    {
      "cell_type": "code",
      "source": [
        "df_final = pd.concat([df_RS, df_SC, df_PR])\n",
        "\n",
        "sns.boxplot(x = df_final['sigla_uf'], y = df_final['ideb'])"
      ],
      "metadata": {
        "id": "XOUnpMm6Vqsm",
        "colab": {
          "base_uri": "https://localhost:8080/",
          "height": 299
        },
        "outputId": "e07ce6a0-cd19-417f-ac4b-9b5e7d8037c1"
      },
      "execution_count": null,
      "outputs": [
        {
          "output_type": "execute_result",
          "data": {
            "text/plain": [
              "<matplotlib.axes._subplots.AxesSubplot at 0x7f1eb409b550>"
            ]
          },
          "metadata": {},
          "execution_count": 20
        },
        {
          "output_type": "display_data",
          "data": {
            "text/plain": [
              "<Figure size 432x288 with 1 Axes>"
            ],
            "image/png": "[encoded data removed]"
          },
          "metadata": {
            "needs_background": "light"
          }
        }
      ]
    },
    {
      "cell_type": "markdown",
      "source": [
        "### Atividade 10: Faça um teste Post-hoc para verificar se de fato é o estado de Santa Catarina tem média diferente dos demais estados."
      ],
      "metadata": {
        "id": "YY9W9g4YWAwO"
      }
    },
    {
      "cell_type": "code",
      "source": [
        "from statsmodels.stats.multicomp import pairwise_tukeyhsd\n",
        "\n",
        "print(pairwise_tukeyhsd(endog = df_final['ideb'],\n",
        "                  groups = df_final['sigla_uf'],\n",
        "                  alpha = 0.05))"
      ],
      "metadata": {
        "id": "UEyFBLZMVqrG",
        "colab": {
          "base_uri": "https://localhost:8080/"
        },
        "outputId": "355cb31d-2a1d-4085-c76b-0988abab3fad"
      },
      "execution_count": null,
      "outputs": [
        {
          "output_type": "stream",
          "name": "stdout",
          "text": [
            "Multiple Comparison of Means - Tukey HSD, FWER=0.05 \n",
            "====================================================\n",
            "group1 group2 meandiff p-adj   lower   upper  reject\n",
            "----------------------------------------------------\n",
            "    PR     RS  -0.2294  0.001  -0.302 -0.1568   True\n",
            "    PR     SC  -0.1123 0.0035 -0.1936  -0.031   True\n",
            "    RS     SC   0.1171  0.001  0.0414  0.1928   True\n",
            "----------------------------------------------------\n"
          ]
        }
      ]
    },
    {
      "cell_type": "markdown",
      "source": [
        "Pelo teste de tukey, a hipotese nula que a média do IDEB é igual em alguns dos estados é rejeitada em todos os casos. Por tanto, a média do IDEB é diferente em cada estado."
      ],
      "metadata": {
        "id": "LSvD-gPxYyo2"
      }
    },
    {
      "cell_type": "code",
      "source": [],
      "metadata": {
        "id": "excrV460YhRb"
      },
      "execution_count": null,
      "outputs": []
    }
  ]
}
